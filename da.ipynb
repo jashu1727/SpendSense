{
 "cells": [
  {
   "cell_type": "code",
   "execution_count": 1,
   "metadata": {},
   "outputs": [],
   "source": [
    "import numpy as np\n",
    "import matplotlib.pyplot as plt\n",
    "import pandas as pd"
   ]
  },
  {
   "cell_type": "code",
   "execution_count": 2,
   "metadata": {},
   "outputs": [
    {
     "name": "stdout",
     "output_type": "stream",
     "text": [
      "   No   _address                                              _body  \\\n",
      "0   1  AX-FEDBNK  Rs 40.00 debited from your A/c using UPI on 01...   \n",
      "1   2  AX-FEDBNK  Rs 50.00 debited from your A/c using UPI on 01...   \n",
      "2   3  AD-FEDBNK  Rs 75.00 debited from your A/c using UPI on 01...   \n",
      "3   4  AD-FEDBNK  Rs 200.00 debited from your A/c using UPI on 0...   \n",
      "4   5  AX-FEDBNK  Rs 255.00 debited from your A/c using UPI on 0...   \n",
      "\n",
      "               date  \n",
      "0  01-08-2023 08:51  \n",
      "1  01-08-2023 11:56  \n",
      "2  01-08-2023 12:05  \n",
      "3  01-08-2023 17:09  \n",
      "4  02-08-2023 16:25  \n"
     ]
    }
   ],
   "source": [
    "try:\n",
    "    # Attempt to load the CSV file with ISO-8859-1 encoding\n",
    "    df = pd.read_csv('finaldata.csv', encoding='ISO-8859-1')\n",
    "    print(df.head())  # Display the first few rows to check the content\n",
    "except Exception as e:\n",
    "    print(f\"An error occurred: {e}\")\n"
   ]
  },
  {
   "cell_type": "code",
   "execution_count": 3,
   "metadata": {},
   "outputs": [
    {
     "name": "stdout",
     "output_type": "stream",
     "text": [
      "   No   _address                                              _body  \\\n",
      "0   1  AX-FEDBNK  Rs 40.00 debited from your A/c using UPI on 01...   \n",
      "1   2  AX-FEDBNK  Rs 50.00 debited from your A/c using UPI on 01...   \n",
      "2   3  AD-FEDBNK  Rs 75.00 debited from your A/c using UPI on 01...   \n",
      "3   4  AD-FEDBNK  Rs 200.00 debited from your A/c using UPI on 0...   \n",
      "4   5  AX-FEDBNK  Rs 255.00 debited from your A/c using UPI on 0...   \n",
      "\n",
      "               date  Amount   Action  \n",
      "0  01-08-2023 08:51   40.00  debited  \n",
      "1  01-08-2023 11:56   50.00  debited  \n",
      "2  01-08-2023 12:05   75.00  debited  \n",
      "3  01-08-2023 17:09  200.00  debited  \n",
      "4  02-08-2023 16:25  255.00  debited  \n"
     ]
    }
   ],
   "source": [
    "import re\n",
    "# Define a function to extract amount and action from the message\n",
    "def extract_details(text):\n",
    "    # Regex to find the amount pattern and the action \"debited\"\n",
    "    amount_match = re.search(r'Rs (\\d+\\.?\\d*)', text)\n",
    "    action_match = re.search(r'(debited|credited)', text, re.IGNORECASE)\n",
    "\n",
    "    amount = amount_match.group(1) if amount_match else None\n",
    "    action = action_match.group(1).lower() if action_match else None\n",
    "    return pd.Series([amount, action])\n",
    "\n",
    "# Apply the function to the '_body' column and create new columns\n",
    "df[['Amount', 'Action']] = df['_body'].apply(extract_details)\n",
    "\n",
    "# Show the modified DataFrame\n",
    "print(df[['No', '_address', '_body', 'date', 'Amount', 'Action']].head())\n"
   ]
  },
  {
   "cell_type": "code",
   "execution_count": 4,
   "metadata": {},
   "outputs": [
    {
     "name": "stdout",
     "output_type": "stream",
     "text": [
      "   No   _address                                              _body  \\\n",
      "0   1  AX-FEDBNK  Rs 40.00 debited from your A/c using UPI on 01...   \n",
      "1   2  AX-FEDBNK  Rs 50.00 debited from your A/c using UPI on 01...   \n",
      "2   3  AD-FEDBNK  Rs 75.00 debited from your A/c using UPI on 01...   \n",
      "3   4  AD-FEDBNK  Rs 200.00 debited from your A/c using UPI on 0...   \n",
      "4   5  AX-FEDBNK  Rs 255.00 debited from your A/c using UPI on 0...   \n",
      "\n",
      "               date  Amount   Action  Transaction_Type  \n",
      "0  01-08-2023 08:51   40.00  debited                 0  \n",
      "1  01-08-2023 11:56   50.00  debited                 0  \n",
      "2  01-08-2023 12:05   75.00  debited                 0  \n",
      "3  01-08-2023 17:09  200.00  debited                 0  \n",
      "4  02-08-2023 16:25  255.00  debited                 0  \n"
     ]
    }
   ],
   "source": [
    "# Create a new column 'Transaction_Type' based on the 'Action' column\n",
    "df['Transaction_Type'] = df['Action'].apply(lambda x: 1 if x == 'credited' else 0)\n",
    "\n",
    "# Show the modified DataFrame with the new binary column\n",
    "print(df[['No', '_address', '_body', 'date', 'Amount', 'Action', 'Transaction_Type']].head())\n"
   ]
  },
  {
   "cell_type": "code",
   "execution_count": 5,
   "metadata": {},
   "outputs": [
    {
     "name": "stdout",
     "output_type": "stream",
     "text": [
      "No                    0\n",
      "_address              0\n",
      "_body                 0\n",
      "date                  0\n",
      "Amount              594\n",
      "Action              234\n",
      "Transaction_Type      0\n",
      "dtype: int64\n"
     ]
    }
   ],
   "source": [
    "# Check for missing values in each column\n",
    "print(df.isnull().sum())\n",
    "\n",
    "# Handling missing values\n",
    "# For numerical columns, fill missing values with the median or meandf['Amount'] = pd.to_numeric(df['Amount'], errors='coerce')\n",
    "df['Amount'] = pd.to_numeric(df['Amount'], errors='coerce')\n",
    "df['Amount'] = df['Amount'].fillna(df['Amount'].median())\n",
    "\n",
    "# For categorical columns, you might consider filling missing values with the mode or a placeholder like 'Unknown'\n",
    "df['Action'] = df['Action'].fillna(df['Action'].mode()[0])\n",
    "\n",
    "# If 'Action' has very few missing values, consider dropping those rows\n",
    "df.dropna(subset=['Action'], inplace=True)\n"
   ]
  },
  {
   "cell_type": "code",
   "execution_count": 6,
   "metadata": {},
   "outputs": [],
   "source": [
    "# Assuming 'Action' is the only categorical variable that needs encoding\n",
    "df['Action_Code'] = df['Action'].astype('category').cat.codes"
   ]
  },
  {
   "cell_type": "code",
   "execution_count": 7,
   "metadata": {},
   "outputs": [],
   "source": [
    "from sklearn.preprocessing import MinMaxScaler, StandardScaler\n",
    "\n",
    "# Normalization\n",
    "scaler = MinMaxScaler()\n",
    "df['Amount_Normalized'] = scaler.fit_transform(df[['Amount']])\n",
    "\n",
    "# Standardization\n",
    "scaler = StandardScaler()\n",
    "df['Amount_Standardized'] = scaler.fit_transform(df[['Amount']])"
   ]
  },
  {
   "cell_type": "code",
   "execution_count": 8,
   "metadata": {},
   "outputs": [
    {
     "name": "stdout",
     "output_type": "stream",
     "text": [
      "   No   _address                                              _body  \\\n",
      "0   1  AX-FEDBNK  Rs 40.00 debited from your A/c using UPI on 01...   \n",
      "1   2  AX-FEDBNK  Rs 50.00 debited from your A/c using UPI on 01...   \n",
      "2   3  AD-FEDBNK  Rs 75.00 debited from your A/c using UPI on 01...   \n",
      "3   4  AD-FEDBNK  Rs 200.00 debited from your A/c using UPI on 0...   \n",
      "4   5  AX-FEDBNK  Rs 255.00 debited from your A/c using UPI on 0...   \n",
      "\n",
      "               date  Amount   Action  Transaction_Type  Action_Code  \\\n",
      "0  01-08-2023 08:51    40.0  debited                 0            1   \n",
      "1  01-08-2023 11:56    50.0  debited                 0            1   \n",
      "2  01-08-2023 12:05    75.0  debited                 0            1   \n",
      "3  01-08-2023 17:09   200.0  debited                 0            1   \n",
      "4  02-08-2023 16:25   255.0  debited                 0            1   \n",
      "\n",
      "   Amount_Normalized  Amount_Standardized  \n",
      "0           0.001444            -0.163380  \n",
      "1           0.001815            -0.155692  \n",
      "2           0.002741            -0.136473  \n",
      "3           0.007371            -0.040375  \n",
      "4           0.009408             0.001908  \n"
     ]
    }
   ],
   "source": [
    "# Review the DataFrame\n",
    "print(df.head())\n",
    "\n",
    "# Export the cleaned and preprocessed DataFrame\n",
    "df.to_csv('finaldata_cleaned.csv', index=False)"
   ]
  },
  {
   "cell_type": "code",
   "execution_count": 9,
   "metadata": {},
   "outputs": [
    {
     "name": "stdout",
     "output_type": "stream",
     "text": [
      "0   2023-01-08 08:51:00\n",
      "1   2023-01-08 11:56:00\n",
      "2   2023-01-08 12:05:00\n",
      "3   2023-01-08 17:09:00\n",
      "4   2023-02-08 16:25:00\n",
      "Name: date, dtype: datetime64[ns]\n"
     ]
    }
   ],
   "source": [
    "import pandas as pd\n",
    "\n",
    "# Load your cleaned data\n",
    "df = pd.read_csv('finaldata_cleaned.csv', encoding='ISO-8859-1')\n",
    "\n",
    "# Convert 'date' column to datetime format\n",
    "df['date'] = pd.to_datetime(df['date'], errors='coerce')  # Adjust format if necessary\n",
    "\n",
    "# Check the conversion\n",
    "print(df['date'].head())\n"
   ]
  },
  {
   "cell_type": "code",
   "execution_count": 10,
   "metadata": {},
   "outputs": [],
   "source": [
    "# Extract year and month from the date for grouping data later\n",
    "df['Year'] = df['date'].dt.year\n",
    "df['Month'] = df['date'].dt.month"
   ]
  },
  {
   "cell_type": "code",
   "execution_count": 11,
   "metadata": {},
   "outputs": [
    {
     "name": "stdout",
     "output_type": "stream",
     "text": [
      "     Year  Month  Total_Spend  Average_Spend\n",
      "0  2023.0    1.0      1927.95     148.303846\n",
      "1  2023.0    2.0       320.00      80.000000\n",
      "2  2023.0    3.0      1574.00     131.166667\n",
      "3  2023.0    4.0       262.00      52.400000\n",
      "4  2023.0    5.0        45.00      45.000000\n"
     ]
    }
   ],
   "source": [
    "# Group by year and month, then summarize spending\n",
    "monthly_spend = df.groupby(['Year', 'Month'])['Amount'].agg(['sum', 'mean']).reset_index()\n",
    "monthly_spend.columns = ['Year', 'Month', 'Total_Spend', 'Average_Spend']\n",
    "\n",
    "print(monthly_spend.head())\n"
   ]
  },
  {
   "cell_type": "code",
   "execution_count": 12,
   "metadata": {},
   "outputs": [
    {
     "name": "stdout",
     "output_type": "stream",
     "text": [
      "Average Transaction Size: 252.51754468485422\n"
     ]
    }
   ],
   "source": [
    "# Overall average transaction size\n",
    "average_transaction_size = df['Amount'].mean()\n",
    "print(f\"Average Transaction Size: {average_transaction_size}\")\n"
   ]
  },
  {
   "cell_type": "code",
   "execution_count": 13,
   "metadata": {},
   "outputs": [
    {
     "name": "stdout",
     "output_type": "stream",
     "text": [
      "     Action  Transaction_Count\n",
      "0   debited                938\n",
      "1  credited                125\n"
     ]
    }
   ],
   "source": [
    "# Count number of transactions per category\n",
    "transactions_per_category = df['Action'].value_counts().reset_index()\n",
    "transactions_per_category.columns = ['Action', 'Transaction_Count']\n",
    "\n",
    "print(transactions_per_category)\n"
   ]
  },
  {
   "cell_type": "code",
   "execution_count": 14,
   "metadata": {},
   "outputs": [],
   "source": [
    "# Merging monthly data back to the main DataFrame (if necessary)\n",
    "df = df.merge(monthly_spend, on=['Year', 'Month'], how='left')\n",
    "\n",
    "# Save the enhanced DataFrame\n",
    "df.to_csv('finaldata_enhanced.csv', index=False)\n"
   ]
  },
  {
   "cell_type": "code",
   "execution_count": 15,
   "metadata": {},
   "outputs": [
    {
     "name": "stderr",
     "output_type": "stream",
     "text": [
      "C:\\Users\\heman\\AppData\\Local\\Temp\\ipykernel_19232\\1297187390.py:2: FutureWarning: A value is trying to be set on a copy of a DataFrame or Series through chained assignment using an inplace method.\n",
      "The behavior will change in pandas 3.0. This inplace method will never work because the intermediate object on which we are setting values always behaves as a copy.\n",
      "\n",
      "For example, when doing 'df[col].method(value, inplace=True)', try using 'df.method({col: value}, inplace=True)' or df[col] = df[col].method(value) instead, to perform the operation inplace on the original object.\n",
      "\n",
      "\n",
      "  df['Amount'].fillna(df['Amount'].median(), inplace=True)\n"
     ]
    }
   ],
   "source": [
    "# Fill missing values with the mean or median\n",
    "df['Amount'].fillna(df['Amount'].median(), inplace=True)\n",
    "\n",
    "# Remove duplicates\n",
    "df.drop_duplicates(inplace=True)\n"
   ]
  },
  {
   "cell_type": "code",
   "execution_count": 16,
   "metadata": {},
   "outputs": [],
   "source": [
    "def categorize_by_amount(amount):\n",
    "    if amount < 50:\n",
    "        return 'Miscellaneous'\n",
    "    elif 100 <= amount < 500:\n",
    "        return 'Food/Fuel/Shopping'\n",
    "    elif amount >= 500:\n",
    "        return 'Rent/High-Value Purchases'\n",
    "    else:\n",
    "        return 'Other'\n",
    "\n",
    "# Ensure the 'Amount' column is numeric\n",
    "df['Amount'] = pd.to_numeric(df['Amount'], errors='coerce')\n",
    "\n",
    "# Apply the function to create a new column\n",
    "df['Amount_Category'] = df['Amount'].apply(categorize_by_amount)"
   ]
  },
  {
   "cell_type": "code",
   "execution_count": 17,
   "metadata": {},
   "outputs": [
    {
     "name": "stdout",
     "output_type": "stream",
     "text": [
      "   Amount     Amount_Category\n",
      "0    40.0       Miscellaneous\n",
      "1    50.0               Other\n",
      "2    75.0               Other\n",
      "3   200.0  Food/Fuel/Shopping\n",
      "4   255.0  Food/Fuel/Shopping\n"
     ]
    }
   ],
   "source": [
    "# Ensure the 'Amount' column is numeric\n",
    "df['Amount'] = pd.to_numeric(df['Amount'], errors='coerce')\n",
    "\n",
    "# Apply the function to create a new column\n",
    "df['Amount_Category'] = df['Amount'].apply(categorize_by_amount)\n",
    "\n",
    "# Check the new categorization\n",
    "print(df[['Amount', 'Amount_Category']].head())"
   ]
  },
  {
   "cell_type": "code",
   "execution_count": 18,
   "metadata": {},
   "outputs": [
    {
     "name": "stdout",
     "output_type": "stream",
     "text": [
      "Amount_Category\n",
      "Other                        676\n",
      "Miscellaneous                185\n",
      "Food/Fuel/Shopping           134\n",
      "Rent/High-Value Purchases     68\n",
      "Name: count, dtype: int64\n",
      "Amount_Category\n",
      "Food/Fuel/Shopping            198.090000\n",
      "Miscellaneous                  24.605135\n",
      "Other                          69.656805\n",
      "Rent/High-Value Purchases    2797.678529\n",
      "Name: Amount, dtype: float64\n"
     ]
    }
   ],
   "source": [
    "# Count the number of transactions per category\n",
    "category_counts = df['Amount_Category'].value_counts()\n",
    "print(category_counts)\n",
    "\n",
    "# Mean spending per category\n",
    "mean_spending = df.groupby('Amount_Category')['Amount'].mean()\n",
    "print(mean_spending)\n"
   ]
  },
  {
   "cell_type": "code",
   "execution_count": 19,
   "metadata": {},
   "outputs": [
    {
     "name": "stdout",
     "output_type": "stream",
     "text": [
      "R-squared: 0.20\n",
      "Mean Squared Error: 6079770.51\n"
     ]
    }
   ],
   "source": [
    "import pandas as pd\n",
    "from sklearn.model_selection import train_test_split\n",
    "from sklearn.linear_model import LinearRegression\n",
    "from sklearn.metrics import mean_squared_error, r2_score\n",
    "\n",
    "# Load the dataset\n",
    "data = pd.read_csv('finaldata_enhanced.csv')\n",
    "\n",
    "# Optional: Handle missing values if not previously handled\n",
    "data.dropna(subset=['Year', 'Month', 'Total_Spend', 'Average_Spend', 'Amount_Normalized'], inplace=True)\n",
    "\n",
    "# Select features and target variable\n",
    "X = data[['Year', 'Month', 'Amount_Normalized']]  # Features\n",
    "y = data['Total_Spend']  # Target variable\n",
    "\n",
    "# Split the dataset into training and testing sets\n",
    "X_train, X_test, y_train, y_test = train_test_split(X, y, test_size=0.2, random_state=42)\n",
    "\n",
    "# Initialize the Linear Regression model\n",
    "model = LinearRegression()\n",
    "\n",
    "# Train the model\n",
    "model.fit(X_train, y_train)\n",
    "\n",
    "# Make predictions on the testing set\n",
    "y_pred = model.predict(X_test)\n",
    "\n",
    "# Evaluate the model\n",
    "r_squared = r2_score(y_test, y_pred)\n",
    "mse = mean_squared_error(y_test, y_pred)\n",
    "\n",
    "# Print the evaluation metrics\n",
    "print(f'R-squared: {r_squared:.2f}')\n",
    "print(f'Mean Squared Error: {mse:.2f}')\n"
   ]
  },
  {
   "cell_type": "code",
   "execution_count": 20,
   "metadata": {},
   "outputs": [
    {
     "name": "stdout",
     "output_type": "stream",
     "text": [
      "Initial NaN counts in each column:\n",
      "No                       0\n",
      "_address                 0\n",
      "_body                    0\n",
      "date                   831\n",
      "Amount                   0\n",
      "Action                   0\n",
      "Transaction_Type         0\n",
      "Action_Code              0\n",
      "Amount_Normalized        0\n",
      "Amount_Standardized      0\n",
      "Year                   831\n",
      "Month                  831\n",
      "Total_Spend            831\n",
      "Average_Spend          831\n",
      "dtype: int64\n",
      "Initial Inf counts in each column:\n",
      "No                     0\n",
      "_address               0\n",
      "_body                  0\n",
      "date                   0\n",
      "Amount                 0\n",
      "Action                 0\n",
      "Transaction_Type       0\n",
      "Action_Code            0\n",
      "Amount_Normalized      0\n",
      "Amount_Standardized    0\n",
      "Year                   0\n",
      "Month                  0\n",
      "Total_Spend            0\n",
      "Average_Spend          0\n",
      "dtype: int64\n"
     ]
    }
   ],
   "source": [
    "import pandas as pd\n",
    "import numpy as np\n",
    "\n",
    "# Load the dataset\n",
    "data = pd.read_csv('finaldata_enhanced.csv')\n",
    "\n",
    "# Check for any NaN values in the dataset\n",
    "print(\"Initial NaN counts in each column:\")\n",
    "print(data.isna().sum())\n",
    "\n",
    "# Check for any infinite values in the dataset\n",
    "print(\"Initial Inf counts in each column:\")\n",
    "print(data.replace([np.inf, -np.inf], np.nan).isna().sum() - data.isna().sum())\n",
    "\n",
    "# Replace inf/-inf with NaN and remove any rows with NaN values\n",
    "data.replace([np.inf, -np.inf], np.nan, inplace=True)\n",
    "data.dropna(inplace=True)\n",
    "\n",
    "# Optionally, save the cleaned data\n",
    "data.to_csv('cleaned_data.csv', index=False)"
   ]
  },
  {
   "cell_type": "code",
   "execution_count": 21,
   "metadata": {},
   "outputs": [],
   "source": [
    "from sklearn.preprocessing import MinMaxScaler\n",
    "\n",
    "# Prepare features and target\n",
    "X = data[['Year', 'Month', 'Amount_Normalized']]\n",
    "y = data['Total_Spend']\n",
    "\n",
    "# Apply MinMaxScaler\n",
    "scaler = MinMaxScaler()\n",
    "X_scaled = scaler.fit_transform(X)\n"
   ]
  },
  {
   "cell_type": "code",
   "execution_count": 22,
   "metadata": {},
   "outputs": [
    {
     "name": "stderr",
     "output_type": "stream",
     "text": [
      "c:\\Users\\heman\\AppData\\Local\\Programs\\Python\\Python312\\Lib\\site-packages\\keras\\src\\layers\\core\\dense.py:87: UserWarning: Do not pass an `input_shape`/`input_dim` argument to a layer. When using Sequential models, prefer using an `Input(shape)` object as the first layer in the model instead.\n",
      "  super().__init__(activity_regularizer=activity_regularizer, **kwargs)\n",
      "c:\\Users\\heman\\AppData\\Local\\Programs\\Python\\Python312\\Lib\\site-packages\\keras\\src\\layers\\activations\\leaky_relu.py:41: UserWarning: Argument `alpha` is deprecated. Use `negative_slope` instead.\n",
      "  warnings.warn(\n"
     ]
    }
   ],
   "source": [
    "from tensorflow.keras.models import Sequential\n",
    "from tensorflow.keras.layers import Dense, LeakyReLU\n",
    "from tensorflow.keras.optimizers import Adam\n",
    "from tensorflow.keras.initializers import HeNormal\n",
    "\n",
    "# Define the neural network\n",
    "model = Sequential([\n",
    "    Dense(32, kernel_initializer=HeNormal(), input_shape=(X_scaled.shape[1],)),\n",
    "    LeakyReLU(alpha=0.01),\n",
    "    Dense(32, kernel_initializer=HeNormal()),\n",
    "    LeakyReLU(alpha=0.01),\n",
    "    Dense(1)  # Output layer with one unit for regression\n",
    "])\n",
    "\n",
    "# Compile the model with a conservative learning rate\n",
    "model.compile(optimizer=Adam(learning_rate=0.0001), loss='mean_squared_error')\n"
   ]
  },
  {
   "cell_type": "code",
   "execution_count": 23,
   "metadata": {},
   "outputs": [],
   "source": [
    "# Apply log scaling to the target variable to reduce the range of values\n",
    "y_log = np.log1p(y)  # log1p is used to handle zero values smoothly\n"
   ]
  },
  {
   "cell_type": "code",
   "execution_count": 24,
   "metadata": {},
   "outputs": [],
   "source": [
    "# Simpler model\n",
    "model = Sequential([\n",
    "    Dense(16, kernel_initializer=HeNormal(), input_shape=(X_train.shape[1],)),\n",
    "    LeakyReLU(alpha=0.01),\n",
    "    Dense(1)\n",
    "])\n",
    "\n",
    "# More complex model\n",
    "model = Sequential([\n",
    "    Dense(64, kernel_initializer=HeNormal(), input_shape=(X_train.shape[1],)),\n",
    "    LeakyReLU(alpha=0.01),\n",
    "    Dense(64, kernel_initializer=HeNormal()),\n",
    "    LeakyReLU(alpha=0.01),\n",
    "    Dense(1)\n",
    "])\n"
   ]
  },
  {
   "cell_type": "code",
   "execution_count": 25,
   "metadata": {},
   "outputs": [],
   "source": [
    "from tensorflow.keras.optimizers import Adam, SGD\n",
    "\n",
    "# Using a different optimizer with a lower learning rate\n",
    "model.compile(optimizer=Adam(learning_rate=0.00001), loss='mean_squared_error')\n",
    "\n",
    "# Or using SGD which might be more stable in some cases\n",
    "model.compile(optimizer=SGD(learning_rate=0.01, momentum=0.9), loss='mean_squared_error')\n"
   ]
  },
  {
   "cell_type": "code",
   "execution_count": 26,
   "metadata": {},
   "outputs": [
    {
     "name": "stdout",
     "output_type": "stream",
     "text": [
      "   No   _address                                              _body  \\\n",
      "0   1  AX-FEDBNK  Rs 40.00 debited from your A/c using UPI on 01...   \n",
      "1   2  AX-FEDBNK  Rs 50.00 debited from your A/c using UPI on 01...   \n",
      "2   3  AD-FEDBNK  Rs 75.00 debited from your A/c using UPI on 01...   \n",
      "3   4  AD-FEDBNK  Rs 200.00 debited from your A/c using UPI on 0...   \n",
      "4   5  AX-FEDBNK  Rs 255.00 debited from your A/c using UPI on 0...   \n",
      "\n",
      "                  date  Amount   Action  Transaction_Type  Action_Code  \\\n",
      "0  2023-01-08 08:51:00    40.0  debited                 0            1   \n",
      "1  2023-01-08 11:56:00    50.0  debited                 0            1   \n",
      "2  2023-01-08 12:05:00    75.0  debited                 0            1   \n",
      "3  2023-01-08 17:09:00   200.0  debited                 0            1   \n",
      "4  2023-02-08 16:25:00   255.0  debited                 0            1   \n",
      "\n",
      "   Amount_Normalized  Amount_Standardized    Year  Month  Total_Spend  \\\n",
      "0           0.001444            -0.163380  2023.0    1.0      1927.95   \n",
      "1           0.001815            -0.155692  2023.0    1.0      1927.95   \n",
      "2           0.002741            -0.136473  2023.0    1.0      1927.95   \n",
      "3           0.007371            -0.040375  2023.0    1.0      1927.95   \n",
      "4           0.009408             0.001908  2023.0    2.0       320.00   \n",
      "\n",
      "   Average_Spend  \n",
      "0     148.303846  \n",
      "1     148.303846  \n",
      "2     148.303846  \n",
      "3     148.303846  \n",
      "4      80.000000  \n",
      "<class 'pandas.core.frame.DataFrame'>\n",
      "RangeIndex: 1063 entries, 0 to 1062\n",
      "Data columns (total 14 columns):\n",
      " #   Column               Non-Null Count  Dtype  \n",
      "---  ------               --------------  -----  \n",
      " 0   No                   1063 non-null   int64  \n",
      " 1   _address             1063 non-null   object \n",
      " 2   _body                1063 non-null   object \n",
      " 3   date                 232 non-null    object \n",
      " 4   Amount               1063 non-null   float64\n",
      " 5   Action               1063 non-null   object \n",
      " 6   Transaction_Type     1063 non-null   int64  \n",
      " 7   Action_Code          1063 non-null   int64  \n",
      " 8   Amount_Normalized    1063 non-null   float64\n",
      " 9   Amount_Standardized  1063 non-null   float64\n",
      " 10  Year                 232 non-null    float64\n",
      " 11  Month                232 non-null    float64\n",
      " 12  Total_Spend          232 non-null    float64\n",
      " 13  Average_Spend        232 non-null    float64\n",
      "dtypes: float64(7), int64(3), object(4)\n",
      "memory usage: 116.4+ KB\n",
      "None\n",
      "                No        Amount  Transaction_Type  Action_Code  \\\n",
      "count  1063.000000   1063.000000       1063.000000  1063.000000   \n",
      "mean    532.101599    252.517545          0.117592     0.882408   \n",
      "std     307.173355   1301.367606          0.322276     0.322276   \n",
      "min       1.000000      1.000000          0.000000     0.000000   \n",
      "25%     266.500000     70.000000          0.000000     1.000000   \n",
      "50%     532.000000     70.000000          0.000000     1.000000   \n",
      "75%     797.500000     70.000000          0.000000     1.000000   \n",
      "max    1065.000000  27000.000000          1.000000     1.000000   \n",
      "\n",
      "       Amount_Normalized  Amount_Standardized         Year       Month  \\\n",
      "count        1063.000000         1.063000e+03   232.000000  232.000000   \n",
      "mean            0.009316         1.754633e-17  2023.543103    6.357759   \n",
      "std             0.048201         1.000471e+00     0.499216    3.429756   \n",
      "min             0.000000        -1.933627e-01  2023.000000    1.000000   \n",
      "25%             0.002556        -1.403166e-01  2023.000000    3.000000   \n",
      "50%             0.002556        -1.403166e-01  2024.000000    6.000000   \n",
      "75%             0.002556        -1.403166e-01  2024.000000   10.000000   \n",
      "max             1.000000         2.056304e+01  2024.000000   12.000000   \n",
      "\n",
      "        Total_Spend  Average_Spend  \n",
      "count    232.000000     232.000000  \n",
      "mean    2781.379526     238.964784  \n",
      "std     2865.836028     269.502496  \n",
      "min       10.000000      10.000000  \n",
      "25%      941.000000      86.142857  \n",
      "50%     1574.000000     148.303846  \n",
      "75%     3327.000000     220.500000  \n",
      "max    10978.000000    1085.178000  \n"
     ]
    }
   ],
   "source": [
    "import pandas as pd\n",
    "\n",
    "# Load the dataset\n",
    "df = pd.read_csv('finaldata_enhanced.csv')\n",
    "\n",
    "# Check the first few rows of the dataset\n",
    "print(df.head())\n",
    "\n",
    "# General information and statistics\n",
    "print(df.info())\n",
    "print(df.describe())\n"
   ]
  },
  {
   "cell_type": "code",
   "execution_count": 27,
   "metadata": {},
   "outputs": [],
   "source": [
    "import pandas as pd\n",
    "\n",
    "# Load your data\n",
    "df = pd.read_csv('finaldata_enhanced.csv')\n",
    "\n",
    "# Function to categorize spending based on amount\n",
    "def categorize_spending(amount):\n",
    "    if amount < 50:\n",
    "        return 'Miscellaneous'\n",
    "    elif 50 <= amount < 500:\n",
    "        return 'Food/Fuel/Shopping'\n",
    "    elif amount >= 500:\n",
    "        return 'Large Expense/Rent'\n",
    "    else:\n",
    "        return 'Other'\n",
    "\n",
    "# Apply the function to create a new category column\n",
    "df['Category'] = df['Amount'].apply(categorize_spending)\n"
   ]
  },
  {
   "cell_type": "code",
   "execution_count": 28,
   "metadata": {},
   "outputs": [],
   "source": [
    "# Save the updated DataFrame\n",
    "df.to_csv('upfinaldata_enhanced.csv', index=False)\n"
   ]
  },
  {
   "cell_type": "code",
   "execution_count": 29,
   "metadata": {},
   "outputs": [],
   "source": [
    "from flask import Flask\n"
   ]
  },
  {
   "cell_type": "code",
   "execution_count": 30,
   "metadata": {},
   "outputs": [],
   "source": [
    "app = Flask(__name__)\n"
   ]
  },
  {
   "cell_type": "code",
   "execution_count": 31,
   "metadata": {},
   "outputs": [],
   "source": [
    "@app.route('/')\n",
    "def home():\n",
    "    return \"Hello, World!\"\n"
   ]
  },
  {
   "cell_type": "code",
   "execution_count": 32,
   "metadata": {},
   "outputs": [
    {
     "name": "stdout",
     "output_type": "stream",
     "text": [
      " * Serving Flask app '__main__'\n",
      " * Debug mode: on\n"
     ]
    },
    {
     "name": "stderr",
     "output_type": "stream",
     "text": [
      "WARNING: This is a development server. Do not use it in a production deployment. Use a production WSGI server instead.\n",
      " * Running on http://127.0.0.1:5000\n",
      "Press CTRL+C to quit\n",
      " * Restarting with stat\n"
     ]
    },
    {
     "ename": "SystemExit",
     "evalue": "1",
     "output_type": "error",
     "traceback": [
      "An exception has occurred, use %tb to see the full traceback.\n",
      "\u001b[1;31mSystemExit\u001b[0m\u001b[1;31m:\u001b[0m 1\n"
     ]
    },
    {
     "name": "stderr",
     "output_type": "stream",
     "text": [
      "C:\\Users\\heman\\AppData\\Roaming\\Python\\Python312\\site-packages\\IPython\\core\\interactiveshell.py:3585: UserWarning: To exit: use 'exit', 'quit', or Ctrl-D.\n",
      "  warn(\"To exit: use 'exit', 'quit', or Ctrl-D.\", stacklevel=1)\n"
     ]
    }
   ],
   "source": [
    "if __name__ == '__main__':\n",
    "    app.run(debug=True)\n"
   ]
  }
 ],
 "metadata": {
  "kernelspec": {
   "display_name": "Python 3",
   "language": "python",
   "name": "python3"
  },
  "language_info": {
   "codemirror_mode": {
    "name": "ipython",
    "version": 3
   },
   "file_extension": ".py",
   "mimetype": "text/x-python",
   "name": "python",
   "nbconvert_exporter": "python",
   "pygments_lexer": "ipython3",
   "version": "3.12.4"
  }
 },
 "nbformat": 4,
 "nbformat_minor": 2
}
