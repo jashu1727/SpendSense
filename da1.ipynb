from sklearn.metrics import mean_squared_error, r2_score

# Predict on the test set
y_pred = model.predict(X_test)

# Calculate the metrics
mse = mean_squared_error(y_test, y_pred)
rmse = mse ** 0.5
r2 = r2_score(y_test, y_pred)

print(f"RMSE: {rmse}") #Root Mean Squared Error- by comparing true values and predicted values
print(f"R^2: {r2}")#goodness of fit measure
